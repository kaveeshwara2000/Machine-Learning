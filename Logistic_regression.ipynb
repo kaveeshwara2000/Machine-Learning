{
 "cells": [
  {
   "cell_type": "code",
   "execution_count": 25,
   "id": "6b16ba39",
   "metadata": {},
   "outputs": [],
   "source": [
    "import pandas as pd\n",
    "from sklearn.model_selection import train_test_split\n",
    "from sklearn.feature_extraction.text import CountVectorizer\n",
    "from sklearn.linear_model import LogisticRegression\n",
    "from sklearn.metrics import accuracy_score\n"
   ]
  },
  {
   "cell_type": "code",
   "execution_count": 26,
   "id": "ec56fdc8",
   "metadata": {},
   "outputs": [
    {
     "name": "stdout",
     "output_type": "stream",
     "text": [
      "                                         Review Text  sentiment\n",
      "0  Absolutely wonderful - silky and sexy and comf...          1\n",
      "1  Love this dress!  it's sooo pretty.  i happene...          1\n",
      "2  I love, love, love this jumpsuit. it's fun, fl...          1\n",
      "3  This shirt is very flattering to all due to th...          1\n",
      "4  I love tracy reese dresses, but this one is no...         -1\n"
     ]
    }
   ],
   "source": [
    "df = pd.read_csv(\"womens_clothing_ecommerce_reviews.csv\")\n",
    "print(df.head())"
   ]
  },
  {
   "cell_type": "code",
   "execution_count": 27,
   "id": "9bd0d853",
   "metadata": {},
   "outputs": [
    {
     "name": "stdout",
     "output_type": "stream",
     "text": [
      "<class 'pandas.core.frame.DataFrame'>\n",
      "RangeIndex: 19818 entries, 0 to 19817\n",
      "Data columns (total 2 columns):\n",
      " #   Column       Non-Null Count  Dtype \n",
      "---  ------       --------------  ----- \n",
      " 0   Review Text  19818 non-null  object\n",
      " 1   sentiment    19818 non-null  int64 \n",
      "dtypes: int64(1), object(1)\n",
      "memory usage: 309.8+ KB\n"
     ]
    }
   ],
   "source": [
    "df.info()"
   ]
  },
  {
   "cell_type": "code",
   "execution_count": 28,
   "id": "737dab5e",
   "metadata": {},
   "outputs": [
    {
     "name": "stdout",
     "output_type": "stream",
     "text": [
      "\n",
      "Converting text to numericsl features using Bag-of-words...\n",
      "Text successfully converted to feature vectors\n"
     ]
    }
   ],
   "source": [
    "X = df['Review Text']\n",
    "y = df['sentiment']\n",
    "\n",
    "#'satisfy=y' ensures that the propoption of positive and negative\n",
    "X_train, X_test, y_train, y_test = train_test_split(X, y, test_size=0.2, random_state=42, stratify=y)\n",
    "\n",
    "print(\"\\nConverting text to numericsl features using Bag-of-words...\")\n",
    "\n",
    "vectorizer = CountVectorizer(stop_words='english')\n",
    "\n",
    "X_train_bow = vectorizer.fit_transform(X_train)\n",
    "\n",
    "X_test_bow = vectorizer.transform(X_test)\n",
    "\n",
    "print(\"Text successfully converted to feature vectors\")\n",
    "\n"
   ]
  },
  {
   "cell_type": "code",
   "execution_count": 29,
   "id": "8695d9d8",
   "metadata": {},
   "outputs": [
    {
     "name": "stdout",
     "output_type": "stream",
     "text": [
      "Model training complete\n"
     ]
    }
   ],
   "source": [
    "model = LogisticRegression(max_iter=2000)\n",
    "\n",
    "model.fit(X_train_bow, y_train)\n",
    "print(\"Model training complete\")"
   ]
  },
  {
   "cell_type": "code",
   "execution_count": 30,
   "id": "16115aaa",
   "metadata": {},
   "outputs": [
    {
     "name": "stdout",
     "output_type": "stream",
     "text": [
      "Model Accuracy: 0.9294 (92.94%)\n"
     ]
    }
   ],
   "source": [
    "y_pred = model.predict(X_test_bow)\n",
    "accuracy = accuracy_score(y_test, y_pred)\n",
    "print(f\"Model Accuracy: {accuracy:.4f} ({accuracy:.2%})\")"
   ]
  },
  {
   "cell_type": "code",
   "execution_count": 34,
   "id": "807a52c9",
   "metadata": {},
   "outputs": [
    {
     "name": "stdout",
     "output_type": "stream",
     "text": [
      "Review: I have ordered twice now and both times the clothes exceeded my expectations. The fabric is soft, the colors are vibrant, and the sizing was spot on. I love that I can get trendy outfits without breaking the bank. Will definitely order again!\n",
      "predicted sentiment: 1\n",
      "\n",
      "Review: My dress arrived with a tiny defect, but when I contacted support, they responded quickly and sent me a replacement in just a few days. The new one was perfect. Super impressed with how they handled it!\n",
      "predicted sentiment: 1\n",
      "\n",
      "Review: I ordered a blouse that looked silky and elegant in the pictures, but in person, the material felt cheap and the fit was off. Disappointed, especially since I was really looking forward to wearing it for a special event.\n",
      "predicted sentiment: -1\n",
      "\n",
      "Review: Placed an order over 3 weeks ago and still haven’t received it. I emailed customer service twice with no reply. Very frustrating experience. I won’t be shopping here again unless they improve their communication.\n",
      "predicted sentiment: 1\n",
      "\n"
     ]
    }
   ],
   "source": [
    "reviews = [\n",
    "    \"I have ordered twice now and both times the clothes exceeded my expectations. The fabric is soft, the colors are vibrant, and the sizing was spot on. I love that I can get trendy outfits without breaking the bank. Will definitely order again!\",\n",
    "    \"My dress arrived with a tiny defect, but when I contacted support, they responded quickly and sent me a replacement in just a few days. The new one was perfect. Super impressed with how they handled it!\",\n",
    "    \"I ordered a blouse that looked silky and elegant in the pictures, but in person, the material felt cheap and the fit was off. Disappointed, especially since I was really looking forward to wearing it for a special event.\",\n",
    "    \"Placed an order over 3 weeks ago and still haven’t received it. I emailed customer service twice with no reply. Very frustrating experience. I won’t be shopping here again unless they improve their communication.\"\n",
    "]\n",
    "\n",
    "reviews_bow = vectorizer.transform(reviews)\n",
    "new_predictions = model.predict(reviews_bow)\n",
    "\n",
    "for i in range(len(reviews)):\n",
    "    print(f\"Review: {reviews[i]}\")\n",
    "    print(f\"predicted sentiment: {new_predictions[i]}\\n\")"
   ]
  }
 ],
 "metadata": {
  "kernelspec": {
   "display_name": "Python 3",
   "language": "python",
   "name": "python3"
  },
  "language_info": {
   "codemirror_mode": {
    "name": "ipython",
    "version": 3
   },
   "file_extension": ".py",
   "mimetype": "text/x-python",
   "name": "python",
   "nbconvert_exporter": "python",
   "pygments_lexer": "ipython3",
   "version": "3.13.2"
  }
 },
 "nbformat": 4,
 "nbformat_minor": 5
}
